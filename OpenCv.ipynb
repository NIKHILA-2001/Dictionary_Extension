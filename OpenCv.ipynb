{
  "nbformat": 4,
  "nbformat_minor": 0,
  "metadata": {
    "colab": {
      "name": "OpenCv.ipynb",
      "provenance": [],
      "collapsed_sections": [],
      "toc_visible": true,
      "authorship_tag": "ABX9TyNwWRn25o0oGjzV/QM2CWha",
      "include_colab_link": true
    },
    "kernelspec": {
      "name": "python3",
      "display_name": "Python 3"
    },
    "language_info": {
      "name": "python"
    }
  },
  "cells": [
    {
      "cell_type": "markdown",
      "metadata": {
        "id": "view-in-github",
        "colab_type": "text"
      },
      "source": [
        "<a href=\"https://colab.research.google.com/github/NIKHILA-2001/Dictionary_extension/blob/main/OpenCv.ipynb\" target=\"_parent\"><img src=\"https://colab.research.google.com/assets/colab-badge.svg\" alt=\"Open In Colab\"/></a>"
      ]
    },
    {
      "cell_type": "code",
      "metadata": {
        "id": "L_AccpS3OruT"
      },
      "source": [
        "import cv2 as cv\n",
        "import numpy as np\n",
        "\n",
        "img = np.zeros((512,512,3),np.uint8)\n",
        "#line\n",
        "cv.line(img,(0,0),(511,511),(111,130,250),5) #BGR\n",
        "#rectangle\n",
        "cv.rectangle(img,(145,402),(7,501),(213,145,231),4)\n",
        "#filled circle\n",
        "cv.circle(img,(256,256),100,(125,245,155),-1)\n",
        "#circle\n",
        "cv.circle(img,(176,176),70,(125,245,255),3)\n",
        "#text\n",
        "font =cv.FONT_HERSHEY_COMPLEX\n",
        "cv.putText(img,\"title-OpenCV\",(15,47),font,2,(255,255,255),2,cv.LINE_AA)\n",
        "\n",
        "#addtext will adds test under the layer\n",
        "#to keep text on the layer we use putTest()\n",
        "cv.imshow(\"image\",img)\n",
        "k=cv.waitKey(0)\n",
        "if k == ord(\"s\"): \n",
        "    cv.imwrite(\"Mydrawing.png\",img)"
      ],
      "execution_count": null,
      "outputs": []
    }
  ]
}